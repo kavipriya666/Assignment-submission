{
 "cells": [
  {
   "cell_type": "markdown",
   "metadata": {},
   "source": [
    "1. opening a file "
   ]
  },
  {
   "cell_type": "code",
   "execution_count": 1,
   "metadata": {},
   "outputs": [],
   "source": [
    "text=open(\"file\",'w')\n",
    "text.write(\"I love LetsUpgrade\")\n",
    "text.close\n",
    "text=open(\"file\",'r')\n",
    "text.read()\n",
    "text=open(\"file\",'a')\n",
    "text.write(\" And i love these python sessions\")\n",
    "text.close()"
   ]
  },
  {
   "cell_type": "markdown",
   "metadata": {},
   "source": [
    "2. Function for returning factorial"
   ]
  },
  {
   "cell_type": "code",
   "execution_count": 2,
   "metadata": {},
   "outputs": [
    {
     "name": "stdout",
     "output_type": "stream",
     "text": [
      "Enter a number: 8\n",
      "Factorial of the number is: 40320\n"
     ]
    }
   ],
   "source": [
    "fact=1\n",
    "def factorial(num):\n",
    "    for i in range(1, num+1):\n",
    "        global fact\n",
    "        fact=fact*i  \n",
    "    return fact\n",
    "result=factorial(num=int(input(\"Enter a number: \")))    \n",
    "print(\"Factorial of the number is:\",result)"
   ]
  },
  {
   "cell_type": "code",
   "execution_count": null,
   "metadata": {},
   "outputs": [],
   "source": []
  }
 ],
 "metadata": {
  "kernelspec": {
   "display_name": "Python 3",
   "language": "python",
   "name": "python3"
  },
  "language_info": {
   "codemirror_mode": {
    "name": "ipython",
    "version": 3
   },
   "file_extension": ".py",
   "mimetype": "text/x-python",
   "name": "python",
   "nbconvert_exporter": "python",
   "pygments_lexer": "ipython3",
   "version": "3.7.4"
  }
 },
 "nbformat": 4,
 "nbformat_minor": 2
}
